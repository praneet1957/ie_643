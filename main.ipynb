{
  "nbformat": 4,
  "nbformat_minor": 0,
  "metadata": {
    "colab": {
      "name": "main.ipynb",
      "provenance": [],
      "collapsed_sections": [],
      "authorship_tag": "ABX9TyO+IiGAqglzaxJeey4X/m0N",
      "include_colab_link": true
    },
    "kernelspec": {
      "name": "python3",
      "display_name": "Python 3"
    }
  },
  "cells": [
    {
      "cell_type": "markdown",
      "metadata": {
        "id": "view-in-github",
        "colab_type": "text"
      },
      "source": [
        "<a href=\"https://colab.research.google.com/github/praneet1957/ie_643/blob/main/main.ipynb\" target=\"_parent\"><img src=\"https://colab.research.google.com/assets/colab-badge.svg\" alt=\"Open In Colab\"/></a>"
      ]
    },
    {
      "cell_type": "code",
      "metadata": {
        "colab": {
          "base_uri": "https://localhost:8080/",
          "height": 363
        },
        "id": "5ZQMQn2qTsvu",
        "outputId": "010c760f-36b7-47e8-8db6-b72562123e71"
      },
      "source": [
        "import torch\r\n",
        "import torch.nn as nn\r\n",
        "from torch import optim\r\n",
        "import torch.nn.functional as F\r\n",
        "import numpy as np\r\n",
        "import pandas as pd\r\n",
        "from def_train_eval import *\r\n",
        "\r\n",
        "import pickle            \r\n",
        "\r\n",
        "\r\n",
        "DATA = 'OTH'\r\n",
        "SUFIX = '1stS15-5'\r\n",
        "\r\n",
        "\r\n",
        "device = torch.device(\"cuda\")\r\n",
        "s2 = True\r\n",
        "TRAIN = True\r\n",
        "EVAL = True\r\n",
        "\r\n",
        "\r\n",
        "DIR = 'resources/data/{}/'.format(DATA)\r\n",
        "MODEL_DIR = 'resources/trained_models/'\r\n",
        "\r\n",
        "epochs = 100\r\n",
        "\r\n",
        "save_per_epochs = 5\r\n",
        "\r\n",
        "train_seq_len = 5\r\n",
        "pred_seq_len = 20\r\n",
        "\r\n",
        "\r\n",
        "if __name__ == \"__main__\":\r\n",
        "    \r\n",
        "    if TRAIN:\r\n",
        "        if DATA == 'OTH':\r\n",
        "            f1 = open ( DIR + 'stream1_obs_data_5_{}_train.pkl'.format(pred_seq_len), 'rb')  # 'r' for reading; can be omitted\r\n",
        "            g1 = open ( DIR + 'stream1_pred_data_5_{}_train.pkl'.format(pred_seq_len), 'rb')  # 'r' for reading; can be omitted\r\n",
        "        \r\n",
        "        else:\r\n",
        "            f1 = open ( DIR + 'stream1_obs_data_train.pkl', 'rb')  # 'r' for reading; can be omitted\r\n",
        "            g1 = open ( DIR + 'stream1_pred_data_train.pkl', 'rb')  # 'r' for reading; can be omitted\r\n",
        "\r\n",
        "\r\n",
        "        tr_seq_1 = pickle.load ( f1 )  # load file content as mydict\r\n",
        "        pred_seq_1 = pickle.load ( g1 )  # load file content as mydict\r\n",
        "        f1.close()\r\n",
        "        g1.close()\r\n",
        "\r\n",
        "        \r\n",
        "        if s2:\r\n",
        "            f2 = open ( DIR + 'stream2_obs_data_5_{}_train.pkl', 'rb')  # 'r' for reading; can be omitted\r\n",
        "            g2 = open ( DIR + 'stream2_pred_data_5_{}_train.pkl', 'rb')  # 'r' for reading; can be omitted\r\n",
        "            f3 = open ( DIR + 'stream2_obs_eigs_5_{}_train.pkl', 'rb')  # 'r' for reading; can be omitted\r\n",
        "            g3 = open ( DIR + 'stream2_pred_eigs_5_{}_train.pkl', 'rb')  # 'r' for reading; can be omitted\r\n",
        "            tr_seq_2 = pickle.load ( f2 )  # load file content as mydict\r\n",
        "            pred_seq_2 = pickle.load ( g2 )  # load file content as mydict\r\n",
        "            tr_eig_seq = pickle.load ( f3 )\r\n",
        "            pred_eig_seq = pickle.load ( g3 )\r\n",
        "            f2.close ()\r\n",
        "            f3.close ()\r\n",
        "            g2.close ()\r\n",
        "            g3.close ()\r\n",
        "        else:\r\n",
        "            tr_seq_2 = []\r\n",
        "            pred_seq_2 = []\r\n",
        "            tr_eig_seq = []\r\n",
        "            pred_eig_seq = []\r\n",
        "\r\n",
        "        encoder1, decoder1 = trainIters(epochs, tr_seq_1 , pred_seq_1, tr_seq_2, pred_seq_2, tr_eig_seq, pred_eig_seq, DATA, SUFIX, s2, print_every=1, save_every=save_per_epochs)\r\n",
        "    \r\n",
        "    if EVAL:\r\n",
        "        print('start evaluating {}{}...'.format(DATA, SUFIX))\r\n",
        "        if DATA == 'OTH':\r\n",
        "            f1 = open ( DIR + 'stream1_obs_data_5_{}_test.pkl'.format(pred_seq_len), 'rb')  # 'r' for reading; can be omitted\r\n",
        "            g1 = open ( DIR + 'stream1_pred_data_5_{}_test.pkl'.format(pred_seq_len), 'rb')  # 'r' for reading; can be omitted\r\n",
        "        else:\r\n",
        "            f1 = open ( DIR + 'stream1_obs_data_test.pkl', 'rb')  # 'r' for reading; can be omitted\r\n",
        "            g1 = open ( DIR + 'stream1_pred_data_test.pkl', 'rb')  # 'r' for reading; can be omitted\r\n",
        "        tr_seq_1 = pickle.load ( f1 )  # load file content as mydict\r\n",
        "        pred_seq_1 = pickle.load ( g1 )  # load file content as mydict\r\n",
        "        f1.close ()\r\n",
        "\r\n",
        "        g1.close ()\r\n",
        "\r\n",
        "\r\n",
        "\r\n",
        "\r\n",
        "        eval(10, tr_seq_1, pred_seq_1, DATA, SUFIX)"
      ],
      "execution_count": 1,
      "outputs": [
        {
          "output_type": "error",
          "ename": "ModuleNotFoundError",
          "evalue": "ignored",
          "traceback": [
            "\u001b[0;31m---------------------------------------------------------------------------\u001b[0m",
            "\u001b[0;31mModuleNotFoundError\u001b[0m                       Traceback (most recent call last)",
            "\u001b[0;32m<ipython-input-1-cefbae69b901>\u001b[0m in \u001b[0;36m<module>\u001b[0;34m()\u001b[0m\n\u001b[1;32m      5\u001b[0m \u001b[0;32mimport\u001b[0m \u001b[0mnumpy\u001b[0m \u001b[0;32mas\u001b[0m \u001b[0mnp\u001b[0m\u001b[0;34m\u001b[0m\u001b[0;34m\u001b[0m\u001b[0m\n\u001b[1;32m      6\u001b[0m \u001b[0;32mimport\u001b[0m \u001b[0mpandas\u001b[0m \u001b[0;32mas\u001b[0m \u001b[0mpd\u001b[0m\u001b[0;34m\u001b[0m\u001b[0;34m\u001b[0m\u001b[0m\n\u001b[0;32m----> 7\u001b[0;31m \u001b[0;32mfrom\u001b[0m \u001b[0mdef_train_eval\u001b[0m \u001b[0;32mimport\u001b[0m \u001b[0;34m*\u001b[0m\u001b[0;34m\u001b[0m\u001b[0;34m\u001b[0m\u001b[0m\n\u001b[0m\u001b[1;32m      8\u001b[0m \u001b[0;34m\u001b[0m\u001b[0m\n\u001b[1;32m      9\u001b[0m \u001b[0;32mimport\u001b[0m \u001b[0mpickle\u001b[0m\u001b[0;34m\u001b[0m\u001b[0;34m\u001b[0m\u001b[0m\n",
            "\u001b[0;31mModuleNotFoundError\u001b[0m: No module named 'def_train_eval'",
            "",
            "\u001b[0;31m---------------------------------------------------------------------------\u001b[0;32m\nNOTE: If your import is failing due to a missing package, you can\nmanually install dependencies using either !pip or !apt.\n\nTo view examples of installing some common dependencies, click the\n\"Open Examples\" button below.\n\u001b[0;31m---------------------------------------------------------------------------\u001b[0m\n"
          ]
        }
      ]
    }
  ]
}